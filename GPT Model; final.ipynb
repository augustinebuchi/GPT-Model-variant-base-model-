{
 "cells": [
  {
   "cell_type": "code",
   "execution_count": null,
   "id": "47adeae1",
   "metadata": {},
   "outputs": [],
   "source": [
    "import torch\n",
    "import torch.nn as nn\n",
    "import torch.optim as optim\n",
    "import re\n",
    "from tokenizer_module import Tokenizer  # Importing Tokenizer module if it's defined elsewhere"
   ]
  },
  {
   "cell_type": "code",
   "execution_count": null,
   "id": "d1a31e90",
   "metadata": {},
   "outputs": [],
   "source": [
    "# Defining the GPT model\n",
    "class GPT(nn.Module):\n",
    "    def __init__(self, vocab_size, embedding_dim, num_heads, ff_dim, num_layers, max_sequence_len, dropout_rate):\n",
    "        super(GPT, self).__init__()\n",
    "        self.embedding = nn.Embedding(vocab_size, embedding_dim)  \n",
    "        self.positional_encoding = nn.Embedding(max_sequence_len, embedding_dim)  \n",
    "        self.transformer_layers = nn.TransformerDecoderLayer(embedding_dim, num_heads, ff_dim, dropout_rate)  \n",
    "        # Transformer decoder to stack multiple transformer layers\n",
    "        self.transformer = nn.TransformerDecoder(self.transformer_layers, num_layers)  \n",
    "        # Fully connected layer to produce output logits for each word in the vocabulary\n",
    "        self.fc = nn.Linear(embedding_dim, vocab_size)  \n",
    "\n",
    "    def forward(self, x):\n",
    "        # Getting the batch size and sequence length of the input\n",
    "        batch_size, seq_len = x.size()  \n",
    "        # Generating positional encoding for the input sequence\n",
    "        positional_encoding = self.positional_encoding(torch.arange(seq_len, device=x.device)).unsqueeze(0).expand(batch_size, -1, -1)  \n",
    "        # Adding positional encoding to the input embeddings\n",
    "        x = self.embedding(x) + positional_encoding  \n",
    "        # Passing the input sequence through the transformer decoder\n",
    "        x = self.transformer(x)  \n",
    "        # Project the transformer output to the vocab size\n",
    "        x = self.fc(x)  \n",
    "        return x"
   ]
  },
  {
   "cell_type": "code",
   "execution_count": null,
   "id": "8cafad40",
   "metadata": {},
   "outputs": [],
   "source": [
    "# Setting the hyperparameters\n",
    "vocab_size = 10000  \n",
    "embedding_dim = 256  \n",
    "num_heads = 8  \n",
    "ff_dim = 512  \n",
    "num_layers = 6  \n",
    "max_sequence_len = 100  \n",
    "dropout_rate = 0.1  \n",
    "num_epochs = 10 \n",
    "\n",
    "batch_size = 32  \n",
    "\n",
    "# Creating the GPT model instance\n",
    "model = GPT(vocab_size, embedding_dim, num_heads, ff_dim, num_layers, max_sequence_len, dropout_rate)\n",
    "\n",
    "# Defining the optimizer and loss function\n",
    "# I used AdamW which is an advanced model of the Adam optimizer\n",
    "optimizer = optim.AdamW(model.parameters(), lr=0.001, weight_decay=0.01)  \n",
    "# Cross-entropy loss function for calculating the model's loss\n",
    "criterion = nn.CrossEntropyLoss() "
   ]
  },
  {
   "cell_type": "code",
   "execution_count": null,
   "id": "be7b27b1",
   "metadata": {},
   "outputs": [],
   "source": [
    "# Loading and pre-processing my text data\n",
    "with open('wiz_of_oz.txt', 'r', encoding='utf-8') as f:\n",
    "    text = f.read()\n",
    "\n",
    "# Preprocessing: Convert to lowercase, remove punctuation\n",
    "text = text.lower()\n",
    "text = re.sub(r'[^\\w\\s]', '', text)\n",
    "\n",
    "# Tokenizing the text into word indices\n",
    "tokenizer = Tokenizer(text)  # Assuming Tokenizer is defined in tokenizer_module\n",
    "input_sequences = tokenizer.tokenize_sentences(text)\n",
    "\n",
    "# Converting input sequences to PyTorch tensors\n",
    "input_sequences_tensor = torch.tensor(input_sequences)\n",
    "\n",
    "# Target sequences (shifted input sequences by one position)\n",
    "target_sequences_tensor = input_sequences_tensor[:, 1:]\n"
   ]
  },
  {
   "cell_type": "code",
   "execution_count": null,
   "id": "75532b21",
   "metadata": {},
   "outputs": [],
   "source": [
    "# Training loop\n",
    "for epoch in range(num_epochs):  \n",
    "    # Clear the gradients from the previous iteration\n",
    "    optimizer.zero_grad()  \n",
    "    # Forward pass: to compute predicted logits\n",
    "    output = model(input_sequences_tensor)  \n",
    "    # To calculate the loss between predicted logits and target sequences\n",
    "    loss = criterion(output.view(-1, vocab_size), target_sequences_tensor.view(-1))  \n",
    "    # Backward pass: calculate gradients\n",
    "    loss.backward()  \n",
    "    # Updating model parameters based on gradients calculated\n",
    "    optimizer.step()\n",
    "    print(f\"Epoch {epoch+1}, Loss: {loss.item()}\")\n"
   ]
  },
  {
   "cell_type": "code",
   "execution_count": null,
   "id": "ab0c2a67",
   "metadata": {},
   "outputs": [],
   "source": []
  }
 ],
 "metadata": {
  "kernelspec": {
   "display_name": "Python 3 (ipykernel)",
   "language": "python",
   "name": "python3"
  },
  "language_info": {
   "codemirror_mode": {
    "name": "ipython",
    "version": 3
   },
   "file_extension": ".py",
   "mimetype": "text/x-python",
   "name": "python",
   "nbconvert_exporter": "python",
   "pygments_lexer": "ipython3",
   "version": "3.9.12"
  }
 },
 "nbformat": 4,
 "nbformat_minor": 5
}
